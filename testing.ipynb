{
 "cells": [
  {
   "cell_type": "code",
   "execution_count": 2,
   "metadata": {},
   "outputs": [],
   "source": [
    "from brewerydb import *\n",
    "BreweryDb.configure(API_KEY, BASE_URI)"
   ]
  },
  {
   "cell_type": "code",
   "execution_count": 22,
   "metadata": {},
   "outputs": [
    {
     "ename": "AttributeError",
     "evalue": "'function' object has no attribute 'beers'",
     "output_type": "error",
     "traceback": [
      "\u001b[0;31m---------------------------------------------------------------------------\u001b[0m",
      "\u001b[0;31mAttributeError\u001b[0m                            Traceback (most recent call last)",
      "\u001b[0;32m<ipython-input-22-7813554a1817>\u001b[0m in \u001b[0;36m<module>\u001b[0;34m\u001b[0m\n\u001b[0;32m----> 1\u001b[0;31m \u001b[0mbeers\u001b[0m \u001b[0;34m=\u001b[0m \u001b[0mBreweryDb\u001b[0m\u001b[0;34m.\u001b[0m\u001b[0mbreweries\u001b[0m\u001b[0;34m.\u001b[0m\u001b[0mbeers\u001b[0m\u001b[0;34m(\u001b[0m\u001b[0;34m)\u001b[0m\u001b[0;34m\u001b[0m\u001b[0;34m\u001b[0m\u001b[0m\n\u001b[0m\u001b[1;32m      2\u001b[0m \u001b[0mprint\u001b[0m\u001b[0;34m(\u001b[0m\u001b[0mbeers\u001b[0m\u001b[0;34m)\u001b[0m\u001b[0;34m\u001b[0m\u001b[0;34m\u001b[0m\u001b[0m\n",
      "\u001b[0;31mAttributeError\u001b[0m: 'function' object has no attribute 'beers'"
     ]
    }
   ],
   "source": [
    "beers = BreweryDb.breweries()\n",
    "print(beers)"
   ]
  },
  {
   "cell_type": "code",
   "execution_count": 18,
   "metadata": {},
   "outputs": [
    {
     "name": "stdout",
     "output_type": "stream",
     "text": [
      "{'currentPage': 1, 'numberOfPages': 1, 'totalResults': 1, 'data': [{'id': 'rd8LRZ', 'name': 'Boston Beer Company (Samuel Adams)', 'nameShortDisplay': 'Boston Beer Company (Samuel Adams)', 'isOrganic': 'N', 'status': 'new_unverified', 'statusDisplay': 'New, Unverified', 'createDate': '2018-12-09 18:05:53', 'updateDate': '2018-12-09 18:05:53', 'isMassOwned': 'N', 'isInBusiness': 'Y', 'isVerified': 'N'}], 'status': 'success'}\n"
     ]
    }
   ],
   "source": [
    "adams = BreweryDb.breweries({'name': 'Boston Beer Company (Samuel Adams)'})\n",
    "print(adams)\n",
    "\n"
   ]
  },
  {
   "cell_type": "code",
   "execution_count": 17,
   "metadata": {},
   "outputs": [
    {
     "name": "stdout",
     "output_type": "stream",
     "text": [
      "{'message': 'READ ONLY MODE: Request Successful', 'data': {'id': 'rd8LRZ', 'name': 'Boston Beer Company (Samuel Adams)', 'nameShortDisplay': 'Boston Beer Company (Samuel Adams)', 'isOrganic': 'N', 'status': 'new_unverified', 'statusDisplay': 'New, Unverified', 'createDate': '2018-12-09 18:05:53', 'updateDate': '2018-12-09 18:05:53', 'isMassOwned': 'N', 'isInBusiness': 'Y', 'isVerified': 'N'}, 'status': 'success'}\n"
     ]
    }
   ],
   "source": [
    "beer_id = 'rd8LRZ'\n",
    "\n",
    "brewery = BreweryDb.brewery('rd8LRZ')\n",
    "print(brewery)"
   ]
  },
  {
   "cell_type": "code",
   "execution_count": null,
   "metadata": {},
   "outputs": [],
   "source": [
    "beer_list = BreweryDb.brewery(breweryId)\n",
    "\n",
    "#build query string\n",
    "url = 'https://sandbox-api.brewerydb.com/v2/brewery/rd8LRZ/beers/?key=b96e53e8aae7e3cb11ee27a54957f66e'\n"
   ]
  },
  {
   "cell_type": "code",
   "execution_count": null,
   "metadata": {},
   "outputs": [],
   "source": [
    "#Open beer.db\n",
    "http://prost.herokuapp.com/api/beer/guinness"
   ]
  },
  {
   "cell_type": "code",
   "execution_count": null,
   "metadata": {},
   "outputs": [],
   "source": [
    "#Beer spot\n",
    "http://www.thebeerspot.com/api/info/?function=brewery/dev_key=e1f60625211d3de40aeb35fbb3923a60/brewery_id=418"
   ]
  }
 ],
 "metadata": {
  "kernelspec": {
   "display_name": "Python 3",
   "language": "python",
   "name": "python3"
  },
  "language_info": {
   "codemirror_mode": {
    "name": "ipython",
    "version": 3
   },
   "file_extension": ".py",
   "mimetype": "text/x-python",
   "name": "python",
   "nbconvert_exporter": "python",
   "pygments_lexer": "ipython3",
   "version": "3.7.6"
  }
 },
 "nbformat": 4,
 "nbformat_minor": 4
}
